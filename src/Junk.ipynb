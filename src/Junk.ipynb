{
 "cells": [
  {
   "cell_type": "code",
   "execution_count": 25,
   "id": "offensive-prescription",
   "metadata": {},
   "outputs": [
    {
     "data": {
      "text/plain": [
       "Dict{String,Int64} with 3 entries:\n",
       "  \"Leg 1\"      => 5336\n",
       "  \"Leg 2\"      => 5670\n",
       "  \"Hypotenuse\" => 7786"
      ]
     },
     "execution_count": 25,
     "metadata": {},
     "output_type": "execute_result"
    }
   ],
   "source": [
    "large = 81; small = 35\n",
    "leg1 = large^2 - small^2\n",
    "leg2 = 2*large*small\n",
    "diag = large^2 + small^2\n",
    "fullTriangle = Dict([(\"Leg 1\", leg1), (\"Leg 2\", leg2), (\"Hypotenuse\", diag)])"
   ]
  },
  {
   "cell_type": "code",
   "execution_count": 1,
   "id": "foreign-ordinance",
   "metadata": {},
   "outputs": [],
   "source": [
    "using Gadfly"
   ]
  },
  {
   "cell_type": "code",
   "execution_count": null,
   "id": "double-intensity",
   "metadata": {},
   "outputs": [],
   "source": []
  }
 ],
 "metadata": {
  "kernelspec": {
   "display_name": "JuliaPro_v1.5.3-1 1.5.3",
   "language": "julia",
   "name": "juliapro_v1.5.3-1-1.5"
  },
  "language_info": {
   "file_extension": ".jl",
   "mimetype": "application/julia",
   "name": "julia",
   "version": "1.5.3"
  }
 },
 "nbformat": 4,
 "nbformat_minor": 5
}
